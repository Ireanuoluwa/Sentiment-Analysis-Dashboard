{
 "cells": [
  {
   "cell_type": "code",
   "execution_count": 1,
   "metadata": {},
   "outputs": [
    {
     "name": "stdout",
     "output_type": "stream",
     "text": [
      "Requirement already satisfied: nltk in c:\\users\\moyin\\anaconda3\\envs\\sentiment\\lib\\site-packages (3.7)Note: you may need to restart the kernel to use updated packages.\n",
      "\n",
      "Requirement already satisfied: click in c:\\users\\moyin\\anaconda3\\envs\\sentiment\\lib\\site-packages (from nltk) (8.0.4)\n",
      "Requirement already satisfied: tqdm in c:\\users\\moyin\\anaconda3\\envs\\sentiment\\lib\\site-packages (from nltk) (4.64.1)\n",
      "Requirement already satisfied: joblib in c:\\users\\moyin\\anaconda3\\envs\\sentiment\\lib\\site-packages (from nltk) (1.1.1)\n",
      "Requirement already satisfied: regex>=2021.8.3 in c:\\users\\moyin\\anaconda3\\envs\\sentiment\\lib\\site-packages (from nltk) (2022.7.9)\n",
      "Requirement already satisfied: colorama in c:\\users\\moyin\\anaconda3\\envs\\sentiment\\lib\\site-packages (from click->nltk) (0.4.6)\n"
     ]
    }
   ],
   "source": [
    "%pip install nltk"
   ]
  },
  {
   "cell_type": "code",
   "execution_count": 2,
   "metadata": {},
   "outputs": [
    {
     "name": "stderr",
     "output_type": "stream",
     "text": [
      "[nltk_data] Downloading package wordnet to\n",
      "[nltk_data]     C:\\Users\\moyin\\AppData\\Roaming\\nltk_data...\n",
      "[nltk_data]   Package wordnet is already up-to-date!\n",
      "[nltk_data] Downloading package stopwords to\n",
      "[nltk_data]     C:\\Users\\moyin\\AppData\\Roaming\\nltk_data...\n",
      "[nltk_data]   Package stopwords is already up-to-date!\n"
     ]
    }
   ],
   "source": [
    "from nltk.stem import PorterStemmer\n",
    "from nltk.stem import WordNetLemmatizer\n",
    "from nltk.corpus import wordnet\n",
    "from sklearn.feature_extraction.text import CountVectorizer\n",
    "from sklearn.naive_bayes import MultinomialNB\n",
    "from sklearn.linear_model import LogisticRegression\n",
    "from sklearn.model_selection import train_test_split\n",
    "import matplotlib.pyplot as plt\n",
    "import pandas as pd\n",
    "import pickle\n",
    "import imblearn\n",
    "from imblearn.over_sampling import RandomOverSampler\n",
    "from collections import Counter\n",
    "from nltk import word_tokenize\n",
    "from sklearn.pipeline import Pipeline\n",
    "from sklearn.metrics import classification_report\n",
    "from sklearn.naive_bayes import BernoulliNB\n",
    "from sklearn.metrics import roc_auc_score\n",
    "from sklearn.feature_extraction.text import TfidfVectorizer\n",
    "from sklearn.svm import LinearSVC\n",
    "from sklearn.naive_bayes import MultinomialNB\n",
    "from sklearn.ensemble import GradientBoostingClassifier\n",
    "from sklearn.linear_model import LogisticRegression\n",
    "from sklearn.naive_bayes import BernoulliNB\n",
    "import nltk\n",
    "import numpy as np\n",
    "import string\n",
    "from wordcloud import WordCloud\n",
    "nltk.download(\"wordnet\")\n",
    "porter = PorterStemmer()\n",
    "lemmatizer = WordNetLemmatizer()\n",
    "nltk.download('stopwords')\n",
    "from nltk.corpus import stopwords\n",
    "stopwords = stopwords.words('english')\n",
    "nltk.download('averaged_perceptron_tagger')\n"
   ]
  },
  {
   "cell_type": "code",
   "execution_count": 4,
   "metadata": {},
   "outputs": [],
   "source": [
    "def get_wordnet_pos(treebank_tag):\n",
    "    if treebank_tag.startswith('J'):\n",
    "        return wordnet.ADJ\n",
    "    elif treebank_tag.startswith('V'):\n",
    "        return wordnet.VERB\n",
    "    elif treebank_tag.startswith('N'):\n",
    "        return wordnet.NOUN\n",
    "    elif treebank_tag.startswith('R'):\n",
    "        return wordnet.ADV\n",
    "    else:\n",
    "        return wordnet.NOUN\n"
   ]
  },
  {
   "cell_type": "code",
   "execution_count": 5,
   "metadata": {},
   "outputs": [],
   "source": [
    "\n",
    "\n",
    "class LemmaTokenizer:\n",
    "    def __init__(self):\n",
    "        self.wnl = WordNetLemmatizer()\n",
    "    def __call__(self,doc):\n",
    "        tokens = word_tokenize(doc)\n",
    "        words_and_tags = nltk.pos_tag(tokens)\n",
    "        return [self.wnl.lemmatize(word,pos = get_wordnet_pos(tag)) \\\n",
    "                 for word,tag in words_and_tags]"
   ]
  },
  {
   "cell_type": "code",
   "execution_count": 6,
   "metadata": {},
   "outputs": [],
   "source": [
    "# Converting the csv file to a pandas dataframe\n",
    "path = \"C:/Users/moyin/OneDrive/Desktop/ASU/MFG 598/PROJECT/data/amazon_reviews.csv\"\n",
    "df = pd.read_csv(path)\n",
    "\n",
    "\n",
    "\n"
   ]
  },
  {
   "cell_type": "code",
   "execution_count": 7,
   "metadata": {},
   "outputs": [],
   "source": [
    "\n",
    "#Sorting the data based on the Positive and Negative Reviews and spliting them to words\n",
    "good_reviews = df[df['feedback'] == 1]\n",
    "bad_reviews = df[df['feedback'] == 0]\n",
    "good = good_reviews['verified_reviews'].tolist()\n",
    "bad = bad_reviews['verified_reviews'].tolist()\n",
    "good_str = ' '.join(good)\n",
    "bad_str = ' '.join(bad)\n"
   ]
  },
  {
   "cell_type": "code",
   "execution_count": null,
   "metadata": {},
   "outputs": [],
   "source": [
    "# Generate Word CLoud for Positive Reviews\n",
    "plt.figure(figsize=(20,20))\n",
    "plt.imshow(WordCloud().generate(good_str))"
   ]
  },
  {
   "cell_type": "code",
   "execution_count": null,
   "metadata": {},
   "outputs": [],
   "source": [
    "# Generate Word CLoud for Negative Reviews\n",
    "plt.figure(figsize=(20,20))\n",
    "plt.imshow(WordCloud().generate(bad_str))"
   ]
  },
  {
   "cell_type": "code",
   "execution_count": null,
   "metadata": {},
   "outputs": [],
   "source": [
    "# Removing the extra spaces in the variation column\n",
    "df['variation'] = df['variation'].str.strip()\n",
    "\n"
   ]
  },
  {
   "cell_type": "code",
   "execution_count": null,
   "metadata": {},
   "outputs": [],
   "source": [
    "#Analyzing the number of each variation of the product\n",
    "df['variation'].value_counts()"
   ]
  },
  {
   "cell_type": "code",
   "execution_count": null,
   "metadata": {},
   "outputs": [],
   "source": [
    "import plotly.graph_objects as go\n",
    "type_df = df[df['variation'] == \"Oak Finish\"]\n",
    "feedback_counts = type_df.groupby('feedback').size()\n",
    "feedback_counts[1]\n"
   ]
  },
  {
   "cell_type": "code",
   "execution_count": null,
   "metadata": {},
   "outputs": [],
   "source": [
    "df['verified_reviews'].replace(' ', np.nan, inplace=True)\n",
    "df.dropna(subset=['verified_reviews'], inplace=True)\n"
   ]
  },
  {
   "cell_type": "code",
   "execution_count": 8,
   "metadata": {},
   "outputs": [],
   "source": [
    "# Assigning the reviews (X) and the feedback as the target (Y)\n",
    "X = df['verified_reviews']\n",
    "y = df['feedback']\n",
    "\n",
    "# Displaying the target column (Y) on a histogram according to the number of positive reviews and negative reviews\n",
    "y.hist()"
   ]
  },
  {
   "attachments": {},
   "cell_type": "markdown",
   "metadata": {},
   "source": [
    "#### As seen in the histogram, the target column is imbalanced. Therefore, the column would be balanced using Oversampling. Oversampling is a technique which increases the number of samples of the smallest class up to the size of the biggest class"
   ]
  },
  {
   "cell_type": "code",
   "execution_count": null,
   "metadata": {},
   "outputs": [],
   "source": [
    "\n",
    "over_sampler = RandomOverSampler(random_state=42)\n",
    "X_res, y_res = over_sampler.fit_resample(X.values.reshape(-1, 1), y)"
   ]
  },
  {
   "cell_type": "code",
   "execution_count": 10,
   "metadata": {},
   "outputs": [],
   "source": [
    "# Perform cleaning of the data column as pass this function to the Vectorizer\n",
    "def preprocessing(message):\n",
    "    Test_punc_removed = [word for word in message if word not in string.punctuation]\n",
    "    Test_punc_removed_join = ''.join(Test_punc_removed)\n",
    "    Test_punc_removed_join_clean = [word for word in Test_punc_removed_join.split() if word.lower() not in stopwords and word.lower().isalpha() and word is not None]\n",
    "    Test_punc_removed_join_clean = ' '.join(Test_punc_removed_join_clean)\n",
    "    return Test_punc_removed_join_clean"
   ]
  },
  {
   "cell_type": "code",
   "execution_count": 11,
   "metadata": {},
   "outputs": [],
   "source": [
    "# reshape the array to a 1D.\n",
    "X_res = np.ravel(X_res)\n",
    "X_res.shape\n",
    "#Convert the array to a dataframe.\n",
    "X_res = pd.Series(X_res)"
   ]
  },
  {
   "cell_type": "code",
   "execution_count": 12,
   "metadata": {},
   "outputs": [],
   "source": [
    "# Divide the balanced target column (Y) and  reviews column (X) to train and test datasets\n",
    "X_train, X_test, y_train, y_test = train_test_split(X_res, y_res,\n",
    "                                                    stratify=y_res, \n",
    "                                                    test_size=0.25, random_state = 245)\n",
    "\n"
   ]
  },
  {
   "cell_type": "code",
   "execution_count": 13,
   "metadata": {},
   "outputs": [
    {
     "data": {
      "text/plain": [
       "<Axes: >"
      ]
     },
     "execution_count": 13,
     "metadata": {},
     "output_type": "execute_result"
    },
    {
     "data": {
      "image/png": "[encoded data removed]",
      "text/plain": [
       "<Figure size 640x480 with 1 Axes>"
      ]
     },
     "metadata": {},
     "output_type": "display_data"
    }
   ],
   "source": [
    "# Convert the y_train to a histogram.\n",
    "y_train.hist()"
   ]
  },
  {
   "cell_type": "code",
   "execution_count": 14,
   "metadata": {},
   "outputs": [
    {
     "data": {
      "text/plain": [
       "(4339,)"
      ]
     },
     "execution_count": 14,
     "metadata": {},
     "output_type": "execute_result"
    }
   ],
   "source": [
    "# Viewing the shape of the X_train dataset.\n",
    "X_train.shape"
   ]
  },
  {
   "attachments": {},
   "cell_type": "markdown",
   "metadata": {},
   "source": [
    "#### We would be using different models to predict the sentiment of the Reviews and test how well the model performed"
   ]
  },
  {
   "cell_type": "code",
   "execution_count": null,
   "metadata": {},
   "outputs": [],
   "source": [
    "# Function to evaluate the model's performace\n",
    "def model_evaluate(model):\n",
    "    y_pred = model.predict(X_test)\n",
    "    Pr_train = model.predict_proba(X_train)[:,1]\n",
    "    Pr_test = model.predict_proba(X_test)[:,1]\n",
    "    class_report = classification_report(y_test, y_pred,output_dict=True)\n",
    "\n",
    "    return class_report"
   ]
  },
  {
   "cell_type": "code",
   "execution_count": null,
   "metadata": {},
   "outputs": [],
   "source": [
    "# Using Tfidf Vectorizer\n",
    "tfidf = TfidfVectorizer(ngram_range=(1,2),max_features=2000)\n",
    "# tokenizer=LemmaTokenizer()\n",
    "X_train = tfidf.fit_transform(X_train)\n",
    "X_test = tfidf.transform(X_test)"
   ]
  },
  {
   "cell_type": "code",
   "execution_count": null,
   "metadata": {},
   "outputs": [],
   "source": [
    "# Using BernoulliNB \n",
    "BNBmodel = BernoulliNB(alpha = 1)\n",
    "BNBmodel.fit(X_train, y_train)\n",
    "model_evaluate(BNBmodel)\n"
   ]
  },
  {
   "cell_type": "code",
   "execution_count": null,
   "metadata": {},
   "outputs": [],
   "source": [
    "# Using Logistic Regression\n",
    "LRmodel = LogisticRegression(C = 2, max_iter = 1000, n_jobs=-1)\n",
    "LRmodel.fit(X_train, y_train)\n",
    "model_evaluate(LRmodel)"
   ]
  },
  {
   "cell_type": "code",
   "execution_count": null,
   "metadata": {},
   "outputs": [],
   "source": [
    "test = [\"I am not fully into the product\"]\n",
    "# pred_test = tfidf.transform(test)\n",
    "# BNBmodel.predict(pred_test)\n",
    "# type(X_test)\n",
    "test = pd.Series(test)\n",
    "pred_test = tfidf.transform(test)\n",
    "LRmodel.predict(pred_test)"
   ]
  },
  {
   "cell_type": "code",
   "execution_count": null,
   "metadata": {},
   "outputs": [],
   "source": [
    "# vectorizer = CountVectorizer(tokenizer=LemmaTokenizer(),lowercase=False)\n",
    "# X_train = vectorizer.fit_transform(X_train)\n",
    "# X_test = vectorizer.transform(X_test)\n"
   ]
  },
  {
   "cell_type": "code",
   "execution_count": null,
   "metadata": {},
   "outputs": [],
   "source": [
    "# LRmodel = LogisticRegression(C = 2, max_iter = 1000, n_jobs=-1)\n",
    "# LRmodel.fit(X_train, y_train)\n",
    "# model_evaluate(LRmodel)"
   ]
  },
  {
   "cell_type": "code",
   "execution_count": null,
   "metadata": {},
   "outputs": [],
   "source": [
    "# from sklearn.naive_bayes import BernoulliNB\n",
    "# BNBmodel = BernoulliNB(alpha = 2)\n",
    "# BNBmodel.fit(X_train, y_train)\n",
    "# model_evaluate(BNBmodel)"
   ]
  },
  {
   "cell_type": "code",
   "execution_count": null,
   "metadata": {},
   "outputs": [],
   "source": [
    "# from sklearn.svm import LinearSVC\n",
    "# from sklearn.metrics import classification_report, confusion_matrix\n",
    "# import seaborn as sns\n",
    "# SVCmodel = LinearSVC()\n",
    "# SVCmodel.fit(X_train, y_train)\n",
    "# model_evaluate(SVCmodel)\n",
    "# Y_pred = SVCmodel.predict(X_test)\n",
    "# cm = confusion_matrix(y_test,Y_pred)\n",
    "# sns.heatmap(cm,annot=True)"
   ]
  },
  {
   "cell_type": "code",
   "execution_count": null,
   "metadata": {},
   "outputs": [],
   "source": [
    "# import matplotlib.pyplot as plt\n",
    "# SVCmodel.coef_\n",
    "# plt.hist(SVCmodel.coef_[0],bins=30)"
   ]
  },
  {
   "cell_type": "code",
   "execution_count": null,
   "metadata": {},
   "outputs": [],
   "source": [
    "# word_index_map = vectorizer.vocabulary_\n",
    "# threshold = 1 \n",
    "# print(\"most negative words\")\n",
    "# for word,index in word_index_map.items():\n",
    "#     weight = SVCmodel.coef_[0][index]\n",
    "#     if weight < -threshold:\n",
    "#         print(word,weight)"
   ]
  },
  {
   "cell_type": "code",
   "execution_count": null,
   "metadata": {},
   "outputs": [],
   "source": [
    "# Using a Pipeline in Sklearn to chain the steps of the workflow \n",
    "\n",
    "X_train, X_test, y_train, y_test = train_test_split(X_res, y_res,\n",
    "                                                    stratify=y_res, \n",
    "                                                    test_size=0.25, random_state = 245)\n",
    "\n",
    "pipe = Pipeline([('vectorizer', tfidf),('LRmodel',LRmodel)])\n",
    "pipe.fit(X_train, y_train)\n",
    "\n",
    "model_evaluate(pipe)"
   ]
  },
  {
   "cell_type": "code",
   "execution_count": null,
   "metadata": {},
   "outputs": [],
   "source": [
    "# Creating a pickle file to store and retrieve the object for future use\n",
    "with open('pipeline.pickle','wb') as f:\n",
    "    pickle.dump(pipe, f)\n",
    "    \n",
    "with open('pipeline.pickle', 'rb') as f:\n",
    "    loaded_pipe = pickle.load(f)\n",
    "    \n",
    "model_evaluate(loaded_pipe)"
   ]
  },
  {
   "cell_type": "code",
   "execution_count": null,
   "metadata": {},
   "outputs": [],
   "source": [
    "test = ['I rate this product very very low',\n",
    "        'I love this project']\n",
    "# pred_test = tfidf.transform(test)\n",
    "# BNBmodel.predict(pred_test)\n",
    "# type(X_test)\n",
    "test = pd.Series(test)\n",
    "# pred_test = tfidf.transform(test)\n",
    "loaded_pipe.predict(test)"
   ]
  },
  {
   "attachments": {},
   "cell_type": "markdown",
   "metadata": {},
   "source": [
    "#### The Count Vectorizer will be used and the performace of the model on the dataset will be compared to Tfidf Vectorizer"
   ]
  },
  {
   "cell_type": "code",
   "execution_count": 62,
   "metadata": {},
   "outputs": [],
   "source": [
    "# Dividing the dataset to train and test datasets\n",
    "X_train, X_test, y_train, y_test = train_test_split(X_res, y_res,\n",
    "                                                    stratify=y_res, \n",
    "                                                    test_size=0.25, random_state = 245)"
   ]
  },
  {
   "cell_type": "code",
   "execution_count": 63,
   "metadata": {},
   "outputs": [],
   "source": [
    "def lemma_tokenizer(doc):\n",
    "    wnl = WordNetLemmatizer()\n",
    "    tokens = word_tokenize(doc)\n",
    "    words_and_tags = nltk.pos_tag(tokens)\n",
    "    return [wnl.lemmatize(word, pos=get_wordnet_pos(tag)) \\\n",
    "            for word, tag in words_and_tags]"
   ]
  },
  {
   "cell_type": "code",
   "execution_count": 64,
   "metadata": {},
   "outputs": [],
   "source": [
    "def user_preprocessing(message):\n",
    "    Test_punc_removed = [word for word in message if word not in string.punctuation]\n",
    "    Test_punc_removed_join = ''.join(Test_punc_removed)\n",
    "    Test_punc_removed_join_clean = [word for word in Test_punc_removed_join.split() if word.lower() not in stopwords and word.lower().isalpha() and word is not None]\n",
    "    Test_punc_removed_join_clean = ' '.join(Test_punc_removed_join_clean)\n",
    "    Test_punc_removed_join_clean= lemma_tokenizer(Test_punc_removed_join_clean)\n",
    "    # Test_punc_removed_join_clean = list(Test_punc_removed_join_clean)\n",
    "    return Test_punc_removed_join_clean"
   ]
  },
  {
   "cell_type": "code",
   "execution_count": 65,
   "metadata": {},
   "outputs": [],
   "source": [
    "def preprocessing(message):\n",
    "    Test_punc_removed = [word for word in message if word not in string.punctuation]\n",
    "    Test_punc_removed_join = ''.join(Test_punc_removed)\n",
    "    Test_punc_removed_join_clean = [word for word in Test_punc_removed_join.split() if word.lower() not in stopwords and word.lower().isalpha() and word is not None]\n",
    "    Test_punc_removed_join_clean = ' '.join(Test_punc_removed_join_clean)\n",
    "    return Test_punc_removed_join_clean"
   ]
  },
  {
   "attachments": {},
   "cell_type": "markdown",
   "metadata": {},
   "source": [
    "#### The code sets up a CountVectorizer object with a custom tokenizer function, LemmaTokenizer(), and disables the lowercase option. It then uses the fitted CountVectorizer to transform the training data, X_train, into a document-term matrix and assigns the result to X_train. \n",
    "\n",
    "#### Finally, it transforms the test data, X_test, using the same vectorizer object and assigns the result to X_test."
   ]
  },
  {
   "cell_type": "code",
   "execution_count": 66,
   "metadata": {},
   "outputs": [
    {
     "name": "stderr",
     "output_type": "stream",
     "text": [
      "c:\\Users\\moyin\\anaconda3\\envs\\sentiment\\lib\\site-packages\\sklearn\\feature_extraction\\text.py:528: UserWarning: The parameter 'token_pattern' will not be used since 'tokenizer' is not None'\n",
      "  warnings.warn(\n"
     ]
    }
   ],
   "source": [
    "vectorizer = CountVectorizer(tokenizer=LemmaTokenizer(), lowercase=False)\n",
    "X_train = vectorizer.fit_transform(X_train)\n",
    "X_test = vectorizer.transform(X_test)"
   ]
  },
  {
   "cell_type": "code",
   "execution_count": 30,
   "metadata": {},
   "outputs": [
    {
     "data": {
      "text/plain": [
       "(1447, 4034)"
      ]
     },
     "execution_count": 30,
     "metadata": {},
     "output_type": "execute_result"
    }
   ],
   "source": [
    "# Shape of the X test dataset\n",
    "X_test.shape"
   ]
  },
  {
   "cell_type": "code",
   "execution_count": 81,
   "metadata": {},
   "outputs": [
    {
     "data": {
      "text/plain": [
       "{'0': {'precision': 0.8765652951699463,\n",
       "  'recall': 0.677731673582296,\n",
       "  'f1-score': 0.7644305772230889,\n",
       "  'support': 723},\n",
       " '1': {'precision': 0.7376126126126126,\n",
       "  'recall': 0.9046961325966851,\n",
       "  'f1-score': 0.8126550868486353,\n",
       "  'support': 724},\n",
       " 'accuracy': 0.7912923289564616,\n",
       " 'macro avg': {'precision': 0.8070889538912794,\n",
       "  'recall': 0.7912139030894906,\n",
       "  'f1-score': 0.7885428320358621,\n",
       "  'support': 1447},\n",
       " 'weighted avg': {'precision': 0.8070409398337268,\n",
       "  'recall': 0.7912923289564616,\n",
       "  'f1-score': 0.7885594956535628,\n",
       "  'support': 1447}}"
      ]
     },
     "execution_count": 81,
     "metadata": {},
     "output_type": "execute_result"
    }
   ],
   "source": [
    "# Using BernoulliNB \n",
    "BNBmodel = BernoulliNB(alpha = 1)\n",
    "BNBmodel.fit(X_train, y_train)\n",
    "model_evaluate(BNBmodel)\n"
   ]
  },
  {
   "cell_type": "code",
   "execution_count": 48,
   "metadata": {},
   "outputs": [
    {
     "data": {
      "text/plain": [
       "array([1], dtype=int64)"
      ]
     },
     "execution_count": 48,
     "metadata": {},
     "output_type": "execute_result"
    }
   ],
   "source": [
    "test = ['I strongly hate this product']\n",
    "# pred_test = tfidf.transform(test)\n",
    "# BNBmodel.predict(pred_test)\n",
    "# type(X_test)\n",
    "test = pd.Series(test)\n",
    "pred_test = vectorizer.transform(test)\n",
    "BNBmodel.predict(pred_test)"
   ]
  },
  {
   "cell_type": "code",
   "execution_count": 50,
   "metadata": {},
   "outputs": [
    {
     "name": "stdout",
     "output_type": "stream",
     "text": [
      "              precision    recall  f1-score   support\n",
      "\n",
      "           0       0.94      1.00      0.97       723\n",
      "           1       1.00      0.94      0.97       724\n",
      "\n",
      "    accuracy                           0.97      1447\n",
      "   macro avg       0.97      0.97      0.97      1447\n",
      "weighted avg       0.97      0.97      0.97      1447\n",
      " Train AUC 0.999106067269633 Test AUC 0.9915121157240778\n"
     ]
    }
   ],
   "source": [
    "# Using LogisticRegression\n",
    "LRmodel = LogisticRegression(C = 2, max_iter = 2000, n_jobs=-1)\n",
    "LRmodel.fit(X_train, y_train)\n",
    "model_evaluate(LRmodel)"
   ]
  },
  {
   "cell_type": "code",
   "execution_count": 51,
   "metadata": {},
   "outputs": [
    {
     "name": "stdout",
     "output_type": "stream",
     "text": [
      "              precision    recall  f1-score   support\n",
      "\n",
      "           0       0.91      0.88      0.90       723\n",
      "           1       0.89      0.91      0.90       724\n",
      "\n",
      "    accuracy                           0.90      1447\n",
      "   macro avg       0.90      0.90      0.90      1447\n",
      "weighted avg       0.90      0.90      0.90      1447\n",
      " Train AUC 0.9715658217063652 Test AUC 0.9641361576610653\n"
     ]
    }
   ],
   "source": [
    "# Using Gradient Boosting Classifier\n",
    "GBC = GradientBoostingClassifier()\n",
    "GBC.fit(X_train, y_train)\n",
    "model_evaluate(GBC)"
   ]
  },
  {
   "cell_type": "code",
   "execution_count": 52,
   "metadata": {},
   "outputs": [
    {
     "name": "stdout",
     "output_type": "stream",
     "text": [
      "              precision    recall  f1-score   support\n",
      "\n",
      "           0       0.91      0.96      0.93       723\n",
      "           1       0.95      0.90      0.93       724\n",
      "\n",
      "    accuracy                           0.93      1447\n",
      "   macro avg       0.93      0.93      0.93      1447\n",
      "weighted avg       0.93      0.93      0.93      1447\n",
      " Train AUC 0.9913524888829399 Test AUC 0.9836011706899582\n"
     ]
    }
   ],
   "source": [
    "# Using MultinomialNB\n",
    "NB_classifier = MultinomialNB()\n",
    "NB_classifier.fit(X_train, y_train)\n",
    "model_evaluate(NB_classifier)"
   ]
  },
  {
   "cell_type": "code",
   "execution_count": 53,
   "metadata": {},
   "outputs": [
    {
     "name": "stderr",
     "output_type": "stream",
     "text": [
      "c:\\Users\\moyin\\anaconda3\\envs\\sentiment\\lib\\site-packages\\sklearn\\feature_extraction\\text.py:528: UserWarning: The parameter 'token_pattern' will not be used since 'tokenizer' is not None'\n",
      "  warnings.warn(\n"
     ]
    },
    {
     "name": "stdout",
     "output_type": "stream",
     "text": [
      "              precision    recall  f1-score   support\n",
      "\n",
      "           0       0.91      0.96      0.93       723\n",
      "           1       0.95      0.90      0.93       724\n",
      "\n",
      "    accuracy                           0.93      1447\n",
      "   macro avg       0.93      0.93      0.93      1447\n",
      "weighted avg       0.93      0.93      0.93      1447\n",
      " Train AUC 0.9913524888829399 Test AUC 0.9836011706899582\n"
     ]
    }
   ],
   "source": [
    "# Using a Pipeline in Sklearn to chain the steps of the workflow \n",
    "\n",
    "X_train, X_test, y_train, y_test = train_test_split(X_res, y_res,\n",
    "                                                    stratify=y_res, \n",
    "                                                    test_size=0.25, random_state = 245)\n",
    "\n",
    "pipe = Pipeline([('vectorizer', vectorizer),('MNB',NB_classifier)])\n",
    "pipe.fit(X_train, y_train)\n",
    "\n",
    "model_evaluate(pipe)"
   ]
  },
  {
   "cell_type": "code",
   "execution_count": 54,
   "metadata": {},
   "outputs": [
    {
     "name": "stdout",
     "output_type": "stream",
     "text": [
      "              precision    recall  f1-score   support\n",
      "\n",
      "           0       0.91      0.96      0.93       723\n",
      "           1       0.95      0.90      0.93       724\n",
      "\n",
      "    accuracy                           0.93      1447\n",
      "   macro avg       0.93      0.93      0.93      1447\n",
      "weighted avg       0.93      0.93      0.93      1447\n",
      " Train AUC 0.9913524888829399 Test AUC 0.9836011706899582\n"
     ]
    }
   ],
   "source": [
    "# Creating a pickle file to store and retrieve the object for future use\n",
    "with open('pipeline.pickle','wb') as f:\n",
    "    pickle.dump(pipe, f)\n",
    "    \n",
    "with open('pipeline.pickle', 'rb') as f:\n",
    "    loaded_vector_pipe = pickle.load(f)\n",
    "    \n",
    "model_evaluate(loaded_vector_pipe)"
   ]
  },
  {
   "cell_type": "code",
   "execution_count": 55,
   "metadata": {},
   "outputs": [
    {
     "data": {
      "text/plain": [
       "array([1, 1, 0, 0, 0], dtype=int64)"
      ]
     },
     "execution_count": 55,
     "metadata": {},
     "output_type": "execute_result"
    }
   ],
   "source": [
    "# test = ['I rate this product badly',\n",
    "#         'I love this project',\n",
    "#         'I am going to return this product',\n",
    "#         'I am very disappointed',\n",
    "#         'I will definitely return']\n",
    "# # pred_test = tfidf.transform(test)\n",
    "# # BNBmodel.predict(pred_test)\n",
    "# # type(X_test)\n",
    "# test = pd.Series(test)\n",
    "# # pred_test = tfidf.transform(test)\n",
    "# loaded_vector_pipe.predict(test)"
   ]
  },
  {
   "cell_type": "code",
   "execution_count": 56,
   "metadata": {},
   "outputs": [
    {
     "name": "stdout",
     "output_type": "stream",
     "text": [
      "[('I rate this product badly', 1, 'Positive'), ('I love this project', 1, 'Positive'), ('I am going to return this product', 0, 'Negative')]\n"
     ]
    }
   ],
   "source": [
    "# A function that performs prediction according to the user input text\n",
    "def predict(model, user_text):\n",
    "    # Predict the sentiment\n",
    "    \n",
    "    # user_df = pd.DataFrame(user_text,columns=['user_text'])\n",
    "    # cleaned_input = user_df['user_text'].apply(preprocessing)\n",
    "    # input_feed = cleaned_input\n",
    "    # vectorizer = CountVectorizer(tokenizer=LemmaTokenizer(),lowercase=False)\n",
    "    # input_feed = vectorizer.transform(input_feed)\n",
    "    # predictions = model.predict(input_feed)\n",
    "\n",
    "\n",
    "    # preprocessed_text = user_preprocessing(user_text)\n",
    "    predictions = model.predict(user_text)\n",
    "    pred_to_label = {0: 'Negative', 1: 'Positive'}\n",
    "\n",
    "    # Make a list of user_text with sentiment.\n",
    "    data = []\n",
    "    for t, pred in zip(text, predictions):\n",
    "        data.append((t, pred, pred_to_label[pred]))\n",
    "\n",
    "    return data\n",
    "\n",
    "\n",
    "if __name__==\"__main__\":\n",
    "    # Text to classify should be in a list.\n",
    "    text = ['I rate this product badly',\n",
    "        'I love this project',\n",
    "        'I am going to return this product']\n",
    "    \n",
    "    predictions = predict(loaded_vector_pipe, text)\n",
    "    print(predictions)"
   ]
  }
 ],
 "metadata": {
  "kernelspec": {
   "display_name": "Python 3.10.9 ('sentiment')",
   "language": "python",
   "name": "python3"
  },
  "language_info": {
   "codemirror_mode": {
    "name": "ipython",
    "version": 3
   },
   "file_extension": ".py",
   "mimetype": "text/x-python",
   "name": "python",
   "nbconvert_exporter": "python",
   "pygments_lexer": "ipython3",
   "version": "3.10.9"
  },
  "orig_nbformat": 4,
  "vscode": {
   "interpreter": {
    "hash": "2bd40f59161ef4fc1d720de42590e98cda6f25c47a5186167758fe09ff22edc9"
   }
  }
 },
 "nbformat": 4,
 "nbformat_minor": 2
}
